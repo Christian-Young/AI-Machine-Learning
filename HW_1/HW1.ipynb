{
  "nbformat": 4,
  "nbformat_minor": 0,
  "metadata": {
    "colab": {
      "name": "HW1.ipynb",
      "provenance": [],
      "authorship_tag": "ABX9TyOZkXQeMCuLA9G7RM3R/yRu",
      "include_colab_link": true
    },
    "kernelspec": {
      "name": "python3",
      "display_name": "Python 3"
    }
  },
  "cells": [
    {
      "cell_type": "markdown",
      "metadata": {
        "id": "view-in-github",
        "colab_type": "text"
      },
      "source": [
        "<a href=\"https://colab.research.google.com/github/Christian-Young/HW1/blob/master/HW_1/HW1.ipynb\" target=\"_parent\"><img src=\"https://colab.research.google.com/assets/colab-badge.svg\" alt=\"Open In Colab\"/></a>"
      ]
    },
    {
      "cell_type": "markdown",
      "metadata": {
        "id": "3Oiq5lkwQSP0",
        "colab_type": "text"
      },
      "source": [
        "HW1 takes a list of NumPy arrays and prints their product. If there are incompatible matrices, the they will be printed out as well."
      ]
    },
    {
      "cell_type": "code",
      "metadata": {
        "id": "dL38AJiAIIxn",
        "colab_type": "code",
        "colab": {}
      },
      "source": [
        "import numpy as np\n",
        "\n",
        "def multiply_matrices(nparraylist):\n",
        "  product = 0\n",
        "  for x in range(len(nparraylist) - 1):\n",
        "    try:\n",
        "      product = product + np.matmul(nparraylist[x], nparraylist[x + 1])\n",
        "      print(\"The product of the matrices is:\", product)\n",
        "    except:\n",
        "      print(\"Matrices\", x, \"and\", x + 1, \"are incompatible.\")\n"
      ],
      "execution_count": 0,
      "outputs": []
    }
  ]
}