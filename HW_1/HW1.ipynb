{
  "nbformat": 4,
  "nbformat_minor": 0,
  "metadata": {
    "colab": {
      "name": "HW1.ipynb",
      "provenance": [],
      "authorship_tag": "ABX9TyOKWNoINbciWbTlpMf4pbhu",
      "include_colab_link": true
    },
    "kernelspec": {
      "name": "python3",
      "display_name": "Python 3"
    }
  },
  "cells": [
    {
      "cell_type": "markdown",
      "metadata": {
        "id": "view-in-github",
        "colab_type": "text"
      },
      "source": [
        "<a href=\"https://colab.research.google.com/github/Christian-Young/multiply_matrices/blob/master/HW_1/HW1.ipynb\" target=\"_parent\"><img src=\"https://colab.research.google.com/assets/colab-badge.svg\" alt=\"Open In Colab\"/></a>"
      ]
    },
    {
      "cell_type": "markdown",
      "metadata": {
        "id": "3Oiq5lkwQSP0",
        "colab_type": "text"
      },
      "source": [
        "#HW1 takes a list of NumPy arrays and prints their product. If there are incompatible matrices, they will be printed out."
      ]
    },
    {
      "cell_type": "code",
      "metadata": {
        "id": "dL38AJiAIIxn",
        "colab_type": "code",
        "colab": {}
      },
      "source": [
        "# Name: Christian Young\n",
        "# NID: ch890408\n",
        "# Course: CAP 4630\n",
        "# Term: SPRING 2020\n",
        "\n",
        "import numpy as np\n",
        "\n",
        "# ----------------------\n",
        "\n",
        "\n",
        "# ----------------------\n",
        "\n",
        "def multiply_matrices(nparraylist):\n",
        "  try:\n",
        "    product = np.matmul(nparraylist[0], nparraylist[1])\n",
        "  except:\n",
        "    print(\"Error: Matrices 0 and 1 are incompatible.\")\n",
        "    return\n",
        "  x = 2\n",
        "  while x < len(nparraylist):\n",
        "    try:\n",
        "      product = np.matmul(product, nparraylist[x])\n",
        "    except:\n",
        "      print(\"Error: Matrices\", x, \"and\", x + 1, \"are incompatible.\")\n",
        "    x = x + 1\n",
        "  print(\"The product of the matrices is:\\n\", product)\n",
        "multiply_matrices(nparraylist)\n",
        "nparraylist.clear()"
      ],
      "execution_count": 0,
      "outputs": []
    },
    {
      "cell_type": "markdown",
      "metadata": {
        "id": "RyEmPABJClJX",
        "colab_type": "text"
      },
      "source": [
        "###Test case 1 uses two simple 1-dimensional matrices\n",
        "$$\\begin{bmatrix}\n",
        "    a  &  b  & c    \\\\\n",
        "\\end{bmatrix}\n",
        "\\times\n",
        "\\begin{bmatrix}\n",
        "    d  &  e  &  f      \\\\\n",
        "\\end{bmatrix}\n",
        "=\n",
        "\\begin{bmatrix}\n",
        "    (a \\times d) + (b \\times e)  +  (c \\times f) \\\\\n",
        "\\end{bmatrix}$$\n",
        "\n",
        "$$\\begin{bmatrix}\n",
        "    1  &  2  & 3    \\\\\n",
        "\\end{bmatrix}\n",
        "\\times\n",
        "\\begin{bmatrix}\n",
        "    2  &  2  &  2      \\\\\n",
        "\\end{bmatrix}\n",
        "=\n",
        "\\begin{bmatrix}\n",
        "    (1 \\times 2) + (2 \\times 2)  +  (3 \\times 2) \\\\\n",
        "\\end{bmatrix} = 12 $$"
      ]
    },
    {
      "cell_type": "code",
      "metadata": {
        "id": "LYeTSxV24ZSA",
        "colab_type": "code",
        "colab": {}
      },
      "source": [
        "# Test case 1\n",
        "# 1-dimensional matrices\n",
        "\n",
        "import numpy as np\n",
        "\n",
        "# ----------------------\n",
        "a = np.array([1, 2, 3])\n",
        "b = np.array([2, 2, 2])\n",
        "nparraylist = [a, b]\n",
        "# ----------------------\n",
        "\n",
        "def multiply_matrices(nparraylist):\n",
        "  try:\n",
        "    product = np.matmul(nparraylist[0], nparraylist[1])\n",
        "  except:\n",
        "    print(\"Error: Matrices 0 and 1 are incompatible.\")\n",
        "    return\n",
        "  x = 2\n",
        "  while x < len(nparraylist):\n",
        "    try:\n",
        "      product = np.matmul(product, nparraylist[x])\n",
        "    except:\n",
        "      print(\"Error: Matrices\", x, \"and\", x + 1, \"are incompatible.\")\n",
        "    x = x + 1\n",
        "  print(\"The product of the matrices is:\\n\", product)\n",
        "multiply_matrices(nparraylist)\n",
        "nparraylist.clear()"
      ],
      "execution_count": 0,
      "outputs": []
    },
    {
      "cell_type": "markdown",
      "metadata": {
        "id": "WAyUfK5DC0sq",
        "colab_type": "text"
      },
      "source": [
        "###Test case 2 uses two 2-dimensional matrices\n",
        "$$\\begin{bmatrix}\n",
        "    a  &  b \\\\\n",
        "    c  &  d \\\\\n",
        "\\end{bmatrix}\n",
        "\\times\n",
        "\\begin{bmatrix}\n",
        "    e  &  f \\\\\n",
        "    g  &  h  \\\\\n",
        "\\end{bmatrix}\n",
        "=\n",
        "\\begin{bmatrix}\n",
        "    ((a \\times e) + (b \\times g)) & ((a \\times f) + (b \\times h))\\\\\n",
        "    ((c \\times e) + (d \\times g)) & ((c \\times f) + (d \\times h))\\\\\n",
        "\\end{bmatrix}$$\n",
        "\n",
        "$$\\begin{bmatrix}\n",
        "    1  &  2 \\\\\n",
        "    2  &  3 \\\\\n",
        "\\end{bmatrix}\n",
        "\\times\n",
        "\\begin{bmatrix}\n",
        "    2  &  2 \\\\\n",
        "    1  &  4  \\\\\n",
        "\\end{bmatrix}\n",
        "=\n",
        "\\begin{bmatrix}\n",
        "    ((1 \\times 2) + (2 \\times 1)) & ((1 \\times 2) + (2 \\times 4))\\\\\n",
        "    ((2 \\times 2) + (3 \\times 1)) & ((2 \\times 2) + (3 \\times 4))\\\\\n",
        "\\end{bmatrix}\n",
        "=\n",
        "\\begin{bmatrix}\n",
        "    4 & 10\\\\\n",
        "    7 & 16\\\\\n",
        "\\end{bmatrix}\n",
        "$$"
      ]
    },
    {
      "cell_type": "code",
      "metadata": {
        "id": "IMJCjG686CGm",
        "colab_type": "code",
        "colab": {}
      },
      "source": [
        "# Test case 2\n",
        "# 2-dimensional matrices\n",
        "\n",
        "import numpy as np\n",
        "\n",
        "# ----------------------\n",
        "a = np.array([[1, 2],\n",
        "              [2, 3]])\n",
        "b = np.array([[2, 2],\n",
        "              [1, 4]])\n",
        "nparraylist = [a, b]\n",
        "# ----------------------\n",
        "\n",
        "def multiply_matrices(nparraylist):\n",
        "  try:\n",
        "    product = np.matmul(nparraylist[0], nparraylist[1])\n",
        "  except:\n",
        "    print(\"Error: Matrices 0 and 1 are incompatible.\")\n",
        "    return\n",
        "  x = 2\n",
        "  while x < len(nparraylist):\n",
        "    try:\n",
        "      product = np.matmul(product, nparraylist[x])\n",
        "    except:\n",
        "      print(\"Error: Matrices\", x, \"and\", x + 1, \"are incompatible.\")\n",
        "    x = x + 1\n",
        "  print(\"The product of the matrices is:\\n\", product)\n",
        "multiply_matrices(nparraylist)\n",
        "nparraylist.clear()"
      ],
      "execution_count": 0,
      "outputs": []
    },
    {
      "cell_type": "markdown",
      "metadata": {
        "id": "PhaZ_IvuDg3-",
        "colab_type": "text"
      },
      "source": [
        "###Test case 3 uses two incompatible matrices that **should** throw the error\n",
        "$$\\begin{bmatrix}\n",
        "    a  &  b     \\\\\n",
        "\\end{bmatrix}\n",
        "\\times\n",
        "\\begin{bmatrix}\n",
        "    c  &  d  &  e      \\\\\n",
        "\\end{bmatrix}\n",
        "= INCOMPATIBLE\n",
        "$$"
      ]
    },
    {
      "cell_type": "code",
      "metadata": {
        "id": "FqYtciSEDgta",
        "colab_type": "code",
        "colab": {}
      },
      "source": [
        "# Test case 3\n",
        "# Two incompatible matrices that should throw the error in the main program.\n",
        "\n",
        "import numpy as np\n",
        "\n",
        "# ----------------------\n",
        "a = np.array([1, 3])\n",
        "b = np.array([2, 2, 2])\n",
        "nparraylist = [a, b]\n",
        "# ----------------------\n",
        "\n",
        "def multiply_matrices(nparraylist):\n",
        "  try:\n",
        "    product = np.matmul(nparraylist[0], nparraylist[1])\n",
        "  except:\n",
        "    print(\"Error: Matrices 0 and 1 are incompatible.\")\n",
        "    return\n",
        "  x = 2\n",
        "  while x < len(nparraylist):\n",
        "    try:\n",
        "      product = np.matmul(product, nparraylist[x])\n",
        "    except:\n",
        "      print(\"Error: Matrices\", x, \"and\", x + 1, \"are incompatible.\")\n",
        "    x = x + 1\n",
        "  print(\"The product of the matrices is:\\n\", product)\n",
        "multiply_matrices(nparraylist)\n",
        "nparraylist.clear()"
      ],
      "execution_count": 0,
      "outputs": []
    }
  ]
}