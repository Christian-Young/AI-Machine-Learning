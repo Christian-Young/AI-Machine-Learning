{
  "nbformat": 4,
  "nbformat_minor": 0,
  "metadata": {
    "colab": {
      "name": "HW4_Problem2.ipynb",
      "provenance": [],
      "collapsed_sections": [],
      "include_colab_link": true
    },
    "kernelspec": {
      "name": "python3",
      "display_name": "Python 3"
    }
  },
  "cells": [
    {
      "cell_type": "markdown",
      "metadata": {
        "id": "view-in-github",
        "colab_type": "text"
      },
      "source": [
        "<a href=\"https://colab.research.google.com/github/Christian-Young/AI-Machine-Learning/blob/master/HW_4/HW4_Problem2.ipynb\" target=\"_parent\"><img src=\"https://colab.research.google.com/assets/colab-badge.svg\" alt=\"Open In Colab\"/></a>"
      ]
    },
    {
      "cell_type": "markdown",
      "metadata": {
        "id": "hvRaatPGIdpO",
        "colab_type": "text"
      },
      "source": [
        "##Problem 2\n",
        "\n",
        "Using only `numpy`, implement the function `maxpooling2d`. It takes as input `input_mat` and `s` and outputs `output_mat`. The variables `input_mat` and `output_mat` are square matrices and `s` is an integer. It should compute the maxpooling operation on `input_mat` using window of shape `s` times `s`.\n",
        "\n",
        "Make sure that you throw appropriate custom exceptions indicating the problem when the operations in Problem 1 and Problem 2 cannot be performed.\n",
        "\n",
        "The test cases are in [test_cases_for_problems_1_2_homework_4](https://colab.research.google.com/drive/1MIoNq4_xglLesBF1kdWJelP2CmdPuYbv)."
      ]
    },
    {
      "cell_type": "code",
      "metadata": {
        "id": "BS4085J7IczF",
        "colab_type": "code",
        "colab": {}
      },
      "source": [
        "# Imports.\n",
        "import numpy as np\n",
        "import skimage.measure"
      ],
      "execution_count": 0,
      "outputs": []
    },
    {
      "cell_type": "code",
      "metadata": {
        "id": "5IPRJnvBp4t7",
        "colab_type": "code",
        "colab": {}
      },
      "source": [
        "def maxpooling2d(input_mat, s):\n",
        "  # The custom exception for when the input is invalid.\n",
        "  if (s > input_mat.shape[0]):\n",
        "    raise Exception('Error: s is larger than input_mat.')\n",
        "  \n",
        "  # w / stride is the new size\n",
        "  w = input_mat.shape[0]\n",
        "  n = int(w / s)\n",
        "  mat = np.zeros((n, n))\n",
        "\n",
        "  for i in np.arange(n):\n",
        "    for k in np.arange(n):\n",
        "      mat[i][k] = input_mat[i * s][k * s]\n",
        "      for j in np.arange(s):\n",
        "        for p in np.arange(s):\n",
        "          mat[i][k] = max(mat[i][k], input_mat[j + (i * s)][p + (k * s)])\n",
        "  \n",
        "  return mat"
      ],
      "execution_count": 0,
      "outputs": []
    },
    {
      "cell_type": "code",
      "metadata": {
        "id": "HMbMZX3Erxio",
        "colab_type": "code",
        "outputId": "7f35f852-1d46-46c5-ceb4-a46e223ac5f1",
        "colab": {
          "base_uri": "https://localhost:8080/",
          "height": 136
        }
      },
      "source": [
        "# Test cases. These are the testcases provided by Dr. Wocjan.\n",
        "# I've already uncommented the test case for student testing\n",
        "# and commented the other line.\n",
        "\n",
        "input_mat = []\n",
        "expected_mat = []\n",
        "s = []\n",
        "input_mat.append(np.array([[1, 2, 1, 2],\n",
        "                      [2, 4, 2, 1],\n",
        "                      [1, 2, 4, 2],\n",
        "                      [2, 1, 2, 1]]))\n",
        "s.append(2)\n",
        "\n",
        "expected_mat.append(np.array([[4, 2],\n",
        "                                [2, 4]]))\n",
        "\n",
        "input_mat.append(np.array([[1, 2, 1, 2, 4, 5],\n",
        "                      [2, 4, 2, 1, 0, 3],\n",
        "                      [1, 2, 4, 2, 4, 5],\n",
        "                      [2, 1, 2, 1, 2, 1],\n",
        "                      [1, 1, 2, 3, 1, 2],\n",
        "                      [1, 1, 2, 3, 1, 2]]))\n",
        "s.append(2)\n",
        "\n",
        "expected_mat.append([[4, 2, 5],\n",
        " [2, 4, 5],\n",
        " [1, 3, 2]])\n",
        "\n",
        "\n",
        "for i in range(len(input_mat)):\n",
        "  # uncomment top line and comment second line to test code\n",
        "  output_mat = maxpooling2d(input_mat[i], s[i])\n",
        "  #output_mat = skimage.measure.block_reduce(input_mat[i], (s[i],s[i]), np.max)\n",
        "\n",
        "  print(output_mat)\n",
        "\n",
        "  if np.array_equal(output_mat, expected_mat[i]):\n",
        "    print(\"Correct output!\")\n",
        "  else:\n",
        "    print(\"Incorrect output!\")"
      ],
      "execution_count": 0,
      "outputs": [
        {
          "output_type": "stream",
          "text": [
            "[[4. 2.]\n",
            " [2. 4.]]\n",
            "Correct output!\n",
            "[[4. 2. 5.]\n",
            " [2. 4. 5.]\n",
            " [1. 3. 2.]]\n",
            "Correct output!\n"
          ],
          "name": "stdout"
        }
      ]
    }
  ]
}