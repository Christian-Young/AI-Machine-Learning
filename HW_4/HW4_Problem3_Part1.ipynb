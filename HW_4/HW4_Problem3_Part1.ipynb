{
  "nbformat": 4,
  "nbformat_minor": 0,
  "metadata": {
    "colab": {
      "name": "HW4_Problem3_Part1.ipynb",
      "provenance": [],
      "collapsed_sections": [],
      "include_colab_link": true
    },
    "kernelspec": {
      "name": "python3",
      "display_name": "Python 3"
    },
    "accelerator": "GPU"
  },
  "cells": [
    {
      "cell_type": "markdown",
      "metadata": {
        "id": "view-in-github",
        "colab_type": "text"
      },
      "source": [
        "<a href=\"https://colab.research.google.com/github/Christian-Young/AI-Machine-Learning/blob/master/HW_4/HW4_Problem3_Part1.ipynb\" target=\"_parent\"><img src=\"https://colab.research.google.com/assets/colab-badge.svg\" alt=\"Open In Colab\"/></a>"
      ]
    },
    {
      "cell_type": "markdown",
      "metadata": {
        "id": "3hk3vxO1iySi",
        "colab_type": "text"
      },
      "source": [
        "##Problem 3 Part 1\n",
        "\n",
        "You will adapt the notebook [using VGG16 conv base for feature extraction, using data augmentation, not using dropout, fine-tuning](https://colab.research.google.com/drive/1F-RWvoxH8MmT7c1UmNy41iuOp-ejiLoF). You will have to replace the VGG16 conv base by new conv bases. You should not use VGG19.\n",
        "\n",
        "You should create two notebooks. Both should use the same conv base, unfreeze the same number of layers of the conv_base, but use different classifiers."
      ]
    },
    {
      "cell_type": "markdown",
      "metadata": {
        "id": "KSrgMJ5vKFzQ",
        "colab_type": "text"
      },
      "source": [
        "# Fine-tuning VGG16 "
      ]
    },
    {
      "cell_type": "markdown",
      "metadata": {
        "id": "TIW7bZaAK-Hf",
        "colab_type": "text"
      },
      "source": [
        "This is based on section 5.3 *Using a pretrained convnet* of the book *Deep learning with Python* by Francois Chollet. I have made several changes to the code. I use the data that is already provided by Google. I don't download the data from Kaggle as in the deep learning book."
      ]
    },
    {
      "cell_type": "markdown",
      "metadata": {
        "id": "nsBq__dVo2pj",
        "colab_type": "text"
      },
      "source": [
        "## Feature extraction"
      ]
    },
    {
      "cell_type": "markdown",
      "metadata": {
        "id": "0g6ETAM9o54M",
        "colab_type": "text"
      },
      "source": [
        "Feature extraction consists of using the representations learned by a previous network to extract interesting features from new samples. These features are then run through a new classifier, which is trained from scratch.\n",
        "\n",
        "We will use here the convolutional base of the VGG16 model to extract the features. We will feed these features to a densely connected classifier with dropout. We will fine-tune some layers."
      ]
    },
    {
      "cell_type": "markdown",
      "metadata": {
        "id": "BqIG8QHMLNOn",
        "colab_type": "text"
      },
      "source": [
        "## Download the data"
      ]
    },
    {
      "cell_type": "markdown",
      "metadata": {
        "id": "t3I1jd7cKV6_",
        "colab_type": "text"
      },
      "source": [
        "Download the example data, a zip. of 2,000 JPG pictures of cats and dogs and extract it locally in ```/tmp```.\n",
        "\n"
      ]
    },
    {
      "cell_type": "code",
      "metadata": {
        "id": "JWjprHEXJ5Qi",
        "colab_type": "code",
        "outputId": "49c3e86c-5433-4bac-b81f-4d7090533adf",
        "colab": {
          "base_uri": "https://localhost:8080/",
          "height": 204
        }
      },
      "source": [
        "!wget --no-check-certificate \\\n",
        "    https://storage.googleapis.com/mledu-datasets/cats_and_dogs_filtered.zip \\\n",
        "    -O /tmp/cats_and_dogs_filtered.zip"
      ],
      "execution_count": 0,
      "outputs": [
        {
          "output_type": "stream",
          "text": [
            "--2020-04-29 17:26:30--  https://storage.googleapis.com/mledu-datasets/cats_and_dogs_filtered.zip\n",
            "Resolving storage.googleapis.com (storage.googleapis.com)... 74.125.133.128, 2a00:1450:400c:c0c::80\n",
            "Connecting to storage.googleapis.com (storage.googleapis.com)|74.125.133.128|:443... connected.\n",
            "HTTP request sent, awaiting response... 200 OK\n",
            "Length: 68606236 (65M) [application/zip]\n",
            "Saving to: ‘/tmp/cats_and_dogs_filtered.zip’\n",
            "\n",
            "/tmp/cats_and_dogs_ 100%[===================>]  65.43M  75.0MB/s    in 0.9s    \n",
            "\n",
            "2020-04-29 17:26:31 (75.0 MB/s) - ‘/tmp/cats_and_dogs_filtered.zip’ saved [68606236/68606236]\n",
            "\n"
          ],
          "name": "stdout"
        }
      ]
    },
    {
      "cell_type": "code",
      "metadata": {
        "id": "WvoHtdA-K6Rw",
        "colab_type": "code",
        "colab": {}
      },
      "source": [
        "import os\n",
        "import zipfile\n",
        "\n",
        "local_zip = '/tmp/cats_and_dogs_filtered.zip'\n",
        "zip_ref = zipfile.ZipFile(local_zip, 'r')\n",
        "zip_ref.extractall('/tmp')\n",
        "zip_ref.close()"
      ],
      "execution_count": 0,
      "outputs": []
    },
    {
      "cell_type": "markdown",
      "metadata": {
        "id": "shZiOBnJMyy_",
        "colab_type": "text"
      },
      "source": [
        "Note that the data provided by Google does not have a test set."
      ]
    },
    {
      "cell_type": "code",
      "metadata": {
        "id": "dL8ikM89LlsH",
        "colab_type": "code",
        "colab": {}
      },
      "source": [
        "base_dir = '/tmp/cats_and_dogs_filtered'\n",
        "train_dir = os.path.join(base_dir, 'train')\n",
        "validation_dir = os.path.join(base_dir, 'validation')\n",
        "\n",
        "# Directory with our training cat pictures\n",
        "train_cats_dir = os.path.join(train_dir, 'cats')\n",
        "\n",
        "# Directory with our training dog pictures\n",
        "train_dogs_dir = os.path.join(train_dir, 'dogs')\n",
        "\n",
        "# Directory with our validation cat pictures\n",
        "validation_cats_dir = os.path.join(validation_dir, 'cats')\n",
        "\n",
        "# Directory with our validation dog pictures\n",
        "validation_dogs_dir = os.path.join(validation_dir, 'dogs')"
      ],
      "execution_count": 0,
      "outputs": []
    },
    {
      "cell_type": "markdown",
      "metadata": {
        "id": "inyP8bcdXnn-",
        "colab_type": "text"
      },
      "source": [
        "## Build network with VGG16 convolution base and custom densely connected layers"
      ]
    },
    {
      "cell_type": "markdown",
      "metadata": {
        "id": "kQ48W5T9rHWu",
        "colab_type": "text"
      },
      "source": [
        "### Load the convolutional base"
      ]
    },
    {
      "cell_type": "code",
      "metadata": {
        "id": "Y0FgtANCXm_H",
        "colab_type": "code",
        "outputId": "c1b69888-fc84-435d-a3f7-af7b48489cc6",
        "colab": {
          "base_uri": "https://localhost:8080/",
          "height": 68
        }
      },
      "source": [
        "# For these notebooks I will use the Xception conv base.\n",
        "from keras.applications import Xception\n",
        "\n",
        "conv_base = Xception(\n",
        "    weights='imagenet', \n",
        "    include_top=False, \n",
        "    input_shape=(150, 150, 3))"
      ],
      "execution_count": 0,
      "outputs": [
        {
          "output_type": "stream",
          "text": [
            "Using TensorFlow backend.\n"
          ],
          "name": "stderr"
        },
        {
          "output_type": "stream",
          "text": [
            "Downloading data from https://github.com/fchollet/deep-learning-models/releases/download/v0.4/xception_weights_tf_dim_ordering_tf_kernels_notop.h5\n",
            "83689472/83683744 [==============================] - 4s 0us/step\n"
          ],
          "name": "stdout"
        }
      ]
    },
    {
      "cell_type": "markdown",
      "metadata": {
        "id": "D6OBHOO9q1ou",
        "colab_type": "text"
      },
      "source": [
        "### Freeze the convolutional base"
      ]
    },
    {
      "cell_type": "code",
      "metadata": {
        "id": "UleRo4Dpq6Ld",
        "colab_type": "code",
        "colab": {}
      },
      "source": [
        "conv_base.trainable = False"
      ],
      "execution_count": 0,
      "outputs": []
    },
    {
      "cell_type": "markdown",
      "metadata": {
        "id": "Qfx6PqhPrb7Q",
        "colab_type": "text"
      },
      "source": [
        "### Concatenate the convolutional base and densely connected layers"
      ]
    },
    {
      "cell_type": "code",
      "metadata": {
        "id": "qUpmocDAO3xm",
        "colab_type": "code",
        "colab": {}
      },
      "source": [
        "from keras import layers\n",
        "from keras import models\n",
        "from keras import optimizers\n",
        "\n",
        "# Classifiers remain the same for this notebook\n",
        "model = models.Sequential()\n",
        "model.add(conv_base)\n",
        "model.add(layers.Flatten())\n",
        "model.add(layers.Dense(256, activation='relu'))\n",
        "#model.add(layers.Dropout(0.1))\n",
        "model.add(layers.Dense(1, activation='sigmoid'))"
      ],
      "execution_count": 0,
      "outputs": []
    },
    {
      "cell_type": "code",
      "metadata": {
        "id": "Fh6gZSeAjF7c",
        "colab_type": "code",
        "outputId": "ea07b1ea-61a0-4d93-e9a5-f6228b214151",
        "colab": {
          "base_uri": "https://localhost:8080/",
          "height": 289
        }
      },
      "source": [
        "model.summary()"
      ],
      "execution_count": 0,
      "outputs": [
        {
          "output_type": "stream",
          "text": [
            "Model: \"sequential_1\"\n",
            "_________________________________________________________________\n",
            "Layer (type)                 Output Shape              Param #   \n",
            "=================================================================\n",
            "xception (Model)             (None, 5, 5, 2048)        20861480  \n",
            "_________________________________________________________________\n",
            "flatten_1 (Flatten)          (None, 51200)             0         \n",
            "_________________________________________________________________\n",
            "dense_1 (Dense)              (None, 256)               13107456  \n",
            "_________________________________________________________________\n",
            "dense_2 (Dense)              (None, 1)                 257       \n",
            "=================================================================\n",
            "Total params: 33,969,193\n",
            "Trainable params: 13,107,713\n",
            "Non-trainable params: 20,861,480\n",
            "_________________________________________________________________\n"
          ],
          "name": "stdout"
        }
      ]
    },
    {
      "cell_type": "markdown",
      "metadata": {
        "id": "eZjBiddhi5Qj",
        "colab_type": "text"
      },
      "source": [
        "## Train the model end to end with frozen convolutional base"
      ]
    },
    {
      "cell_type": "code",
      "metadata": {
        "id": "tfAQlC2Oi41L",
        "colab_type": "code",
        "outputId": "abcdb53d-041e-4839-9548-f5cd80c8ca60",
        "colab": {
          "base_uri": "https://localhost:8080/",
          "height": 1000
        }
      },
      "source": [
        "from keras.preprocessing.image import ImageDataGenerator\n",
        "from keras import optimizers\n",
        "\n",
        "# data augmentation\n",
        "\n",
        "train_datagen = ImageDataGenerator(\n",
        "    rescale=1./255, \n",
        "    rotation_range=40,\n",
        "    width_shift_range=0.2,\n",
        "    height_shift_range=0.2,\n",
        "    shear_range=0.2,\n",
        "    zoom_range=0.2,\n",
        "    horizontal_flip=True,\n",
        "    fill_mode='nearest'\n",
        ")\n",
        "\n",
        "train_generator = train_datagen.flow_from_directory(\n",
        "    train_dir,\n",
        "    target_size=(150, 150),\n",
        "    batch_size=20,\n",
        "    class_mode='binary')\n",
        "\n",
        "validation_datagen = ImageDataGenerator(rescale=1./255)\n",
        "\n",
        "validation_generator = validation_datagen.flow_from_directory(\n",
        "    validation_dir,\n",
        "    target_size=(150, 150),\n",
        "    batch_size=20,\n",
        "    class_mode='binary')\n",
        "\n",
        "# compile model\n",
        "\n",
        "model.compile(\n",
        "    loss='binary_crossentropy', \n",
        "    optimizer=optimizers.RMSprop(lr=2e-5), \n",
        "    metrics=['acc'])\n",
        "\n",
        "# train\n",
        "\n",
        "history = model.fit_generator(\n",
        "    train_generator,\n",
        "    steps_per_epoch=100,\n",
        "    epochs=30,\n",
        "    validation_data=validation_generator,\n",
        "    validation_steps=50\n",
        ")"
      ],
      "execution_count": 0,
      "outputs": [
        {
          "output_type": "stream",
          "text": [
            "Found 2000 images belonging to 2 classes.\n",
            "Found 1000 images belonging to 2 classes.\n",
            "Epoch 1/30\n",
            "100/100 [==============================] - 28s 283ms/step - loss: 0.4412 - acc: 0.7820 - val_loss: 0.2528 - val_acc: 0.9520\n",
            "Epoch 2/30\n",
            "100/100 [==============================] - 19s 192ms/step - loss: 0.3838 - acc: 0.8195 - val_loss: 0.0042 - val_acc: 0.9680\n",
            "Epoch 3/30\n",
            "100/100 [==============================] - 19s 188ms/step - loss: 0.3422 - acc: 0.8360 - val_loss: 0.1445 - val_acc: 0.9700\n",
            "Epoch 4/30\n",
            "100/100 [==============================] - 19s 189ms/step - loss: 0.3405 - acc: 0.8515 - val_loss: 0.0799 - val_acc: 0.9550\n",
            "Epoch 5/30\n",
            "100/100 [==============================] - 19s 188ms/step - loss: 0.3158 - acc: 0.8615 - val_loss: 2.0597e-05 - val_acc: 0.9680\n",
            "Epoch 6/30\n",
            "100/100 [==============================] - 19s 190ms/step - loss: 0.3477 - acc: 0.8405 - val_loss: 0.2374 - val_acc: 0.9570\n",
            "Epoch 7/30\n",
            "100/100 [==============================] - 19s 191ms/step - loss: 0.2960 - acc: 0.8750 - val_loss: 0.1850 - val_acc: 0.9580\n",
            "Epoch 8/30\n",
            "100/100 [==============================] - 19s 187ms/step - loss: 0.2888 - acc: 0.8780 - val_loss: 0.0389 - val_acc: 0.9680\n",
            "Epoch 9/30\n",
            "100/100 [==============================] - 18s 184ms/step - loss: 0.2845 - acc: 0.8845 - val_loss: 0.2153 - val_acc: 0.9670\n",
            "Epoch 10/30\n",
            "100/100 [==============================] - 18s 184ms/step - loss: 0.3008 - acc: 0.8725 - val_loss: 0.0147 - val_acc: 0.9670\n",
            "Epoch 11/30\n",
            "100/100 [==============================] - 19s 186ms/step - loss: 0.3109 - acc: 0.8590 - val_loss: 0.0473 - val_acc: 0.9730\n",
            "Epoch 12/30\n",
            "100/100 [==============================] - 19s 189ms/step - loss: 0.2917 - acc: 0.8760 - val_loss: 0.0369 - val_acc: 0.9710\n",
            "Epoch 13/30\n",
            "100/100 [==============================] - 19s 189ms/step - loss: 0.2888 - acc: 0.8740 - val_loss: 0.0551 - val_acc: 0.9630\n",
            "Epoch 14/30\n",
            "100/100 [==============================] - 18s 184ms/step - loss: 0.2892 - acc: 0.8770 - val_loss: 0.0100 - val_acc: 0.9690\n",
            "Epoch 15/30\n",
            "100/100 [==============================] - 19s 190ms/step - loss: 0.2872 - acc: 0.8770 - val_loss: 0.0037 - val_acc: 0.9710\n",
            "Epoch 16/30\n",
            "100/100 [==============================] - 19s 190ms/step - loss: 0.2651 - acc: 0.8865 - val_loss: 0.1862 - val_acc: 0.9690\n",
            "Epoch 17/30\n",
            "100/100 [==============================] - 19s 189ms/step - loss: 0.2715 - acc: 0.8805 - val_loss: 0.0452 - val_acc: 0.9690\n",
            "Epoch 18/30\n",
            "100/100 [==============================] - 19s 189ms/step - loss: 0.2637 - acc: 0.8915 - val_loss: 1.7785e-05 - val_acc: 0.9700\n",
            "Epoch 19/30\n",
            "100/100 [==============================] - 19s 190ms/step - loss: 0.2799 - acc: 0.8815 - val_loss: 0.2277 - val_acc: 0.9700\n",
            "Epoch 20/30\n",
            "100/100 [==============================] - 19s 191ms/step - loss: 0.2763 - acc: 0.8740 - val_loss: 0.3257 - val_acc: 0.9670\n",
            "Epoch 21/30\n",
            "100/100 [==============================] - 18s 185ms/step - loss: 0.2703 - acc: 0.8860 - val_loss: 6.5657e-04 - val_acc: 0.9700\n",
            "Epoch 22/30\n",
            "100/100 [==============================] - 18s 182ms/step - loss: 0.2569 - acc: 0.8940 - val_loss: 0.2094 - val_acc: 0.9670\n",
            "Epoch 23/30\n",
            "100/100 [==============================] - 18s 184ms/step - loss: 0.2693 - acc: 0.8915 - val_loss: 0.3473 - val_acc: 0.9670\n",
            "Epoch 24/30\n",
            "100/100 [==============================] - 18s 182ms/step - loss: 0.2699 - acc: 0.8815 - val_loss: 0.4709 - val_acc: 0.9680\n",
            "Epoch 25/30\n",
            "100/100 [==============================] - 18s 183ms/step - loss: 0.2641 - acc: 0.8860 - val_loss: 1.9971e-07 - val_acc: 0.9650\n",
            "Epoch 26/30\n",
            "100/100 [==============================] - 18s 183ms/step - loss: 0.2557 - acc: 0.8930 - val_loss: 7.4320e-09 - val_acc: 0.9690\n",
            "Epoch 27/30\n",
            "100/100 [==============================] - 18s 182ms/step - loss: 0.2735 - acc: 0.8935 - val_loss: 0.1638 - val_acc: 0.9660\n",
            "Epoch 28/30\n",
            "100/100 [==============================] - 18s 184ms/step - loss: 0.2842 - acc: 0.8775 - val_loss: 2.0342e-07 - val_acc: 0.9730\n",
            "Epoch 29/30\n",
            "100/100 [==============================] - 18s 185ms/step - loss: 0.2596 - acc: 0.8865 - val_loss: 0.1590 - val_acc: 0.9660\n",
            "Epoch 30/30\n",
            "100/100 [==============================] - 18s 182ms/step - loss: 0.2482 - acc: 0.8985 - val_loss: 5.2987e-07 - val_acc: 0.9640\n"
          ],
          "name": "stdout"
        }
      ]
    },
    {
      "cell_type": "markdown",
      "metadata": {
        "id": "xqRc_vHKc92U",
        "colab_type": "text"
      },
      "source": [
        "## Display curves of loss and accuracy during training"
      ]
    },
    {
      "cell_type": "code",
      "metadata": {
        "id": "ybWwdzz9bwuQ",
        "colab_type": "code",
        "outputId": "1a8a5535-d355-4b9d-f443-660de2153478",
        "colab": {
          "base_uri": "https://localhost:8080/",
          "height": 545
        }
      },
      "source": [
        "%matplotlib inline\n",
        "\n",
        "import matplotlib.pyplot as plt\n",
        "\n",
        "acc = history.history['acc']\n",
        "val_acc = history.history['val_acc']\n",
        "\n",
        "loss = history.history['loss']\n",
        "val_loss = history.history['val_loss']\n",
        "\n",
        "epochs = range(1, len(acc) + 1)\n",
        "\n",
        "# training and validation accuracy\n",
        "\n",
        "plt.plot(epochs, acc, 'bo', label='training acc')\n",
        "plt.plot(epochs, val_acc, 'b', label='validation acc')\n",
        "plt.title('training and validation accuracy')\n",
        "plt.legend()\n",
        "\n",
        "plt.figure()\n",
        "\n",
        "# training and validation loss\n",
        "\n",
        "plt.plot(epochs, loss, 'bo', label='training loss')\n",
        "plt.plot(epochs, val_loss, 'b', label='validation loss')\n",
        "plt.title('training and validation loss')\n",
        "plt.legend()\n",
        "\n",
        "plt.show()"
      ],
      "execution_count": 0,
      "outputs": [
        {
          "output_type": "display_data",
          "data": {
            "image/png": "[encoded data removed]",
            "text/plain": [
              "<Figure size 432x288 with 1 Axes>"
            ]
          },
          "metadata": {
            "tags": [],
            "needs_background": "light"
          }
        },
        {
          "output_type": "display_data",
          "data": {
            "image/png": "[encoded data removed]",
            "text/plain": [
              "<Figure size 432x288 with 1 Axes>"
            ]
          },
          "metadata": {
            "tags": [],
            "needs_background": "light"
          }
        }
      ]
    },
    {
      "cell_type": "markdown",
      "metadata": {
        "id": "lOWsxpey8lN0",
        "colab_type": "text"
      },
      "source": [
        "## Fine-tuning"
      ]
    },
    {
      "cell_type": "code",
      "metadata": {
        "id": "PwkVMx8N8qMw",
        "colab_type": "code",
        "colab": {}
      },
      "source": [
        "conv_base.trainable = True\n",
        "\n",
        "set_trainable = False\n",
        "for layer in conv_base.layers:\n",
        "  if layer.name == 'conv2d_3':\n",
        "    set_trainable = True\n",
        "  if set_trainable:\n",
        "    layer.trainable = True\n",
        "  else:\n",
        "    layer.trainable = False"
      ],
      "execution_count": 0,
      "outputs": []
    },
    {
      "cell_type": "code",
      "metadata": {
        "id": "DyN-J7rs9cvo",
        "colab_type": "code",
        "outputId": "08be862d-e6ab-4d86-c14c-26a2f84a56d9",
        "colab": {
          "base_uri": "https://localhost:8080/",
          "height": 1000
        }
      },
      "source": [
        "# compile model\n",
        "\n",
        "model.compile(\n",
        "    loss='binary_crossentropy',\n",
        "    #\n",
        "    # choose a smaller learning rate\n",
        "    #\n",
        "    optimizer=optimizers.RMSprop(lr=1e-5), \n",
        "    metrics=['acc'])\n",
        "\n",
        "# train\n",
        "\n",
        "history = model.fit_generator(\n",
        "    train_generator,\n",
        "    steps_per_epoch=100,\n",
        "    epochs=100,\n",
        "    validation_data=validation_generator,\n",
        "    validation_steps=50)"
      ],
      "execution_count": 0,
      "outputs": [
        {
          "output_type": "stream",
          "text": [
            "Epoch 1/100\n",
            "100/100 [==============================] - 30s 300ms/step - loss: 0.2403 - acc: 0.9010 - val_loss: 0.2090 - val_acc: 0.9540\n",
            "Epoch 2/100\n",
            "100/100 [==============================] - 22s 217ms/step - loss: 0.2155 - acc: 0.9030 - val_loss: 0.0411 - val_acc: 0.9410\n",
            "Epoch 3/100\n",
            "100/100 [==============================] - 22s 216ms/step - loss: 0.2015 - acc: 0.9135 - val_loss: 0.2174 - val_acc: 0.9410\n",
            "Epoch 4/100\n",
            "100/100 [==============================] - 21s 214ms/step - loss: 0.1928 - acc: 0.9235 - val_loss: 0.0744 - val_acc: 0.9440\n",
            "Epoch 5/100\n",
            "100/100 [==============================] - 21s 214ms/step - loss: 0.1798 - acc: 0.9305 - val_loss: 0.5276 - val_acc: 0.9500\n",
            "Epoch 6/100\n",
            "100/100 [==============================] - 22s 216ms/step - loss: 0.1732 - acc: 0.9315 - val_loss: 0.0654 - val_acc: 0.9420\n",
            "Epoch 7/100\n",
            "100/100 [==============================] - 21s 215ms/step - loss: 0.1591 - acc: 0.9355 - val_loss: 0.0716 - val_acc: 0.9450\n",
            "Epoch 8/100\n",
            "100/100 [==============================] - 21s 214ms/step - loss: 0.1580 - acc: 0.9405 - val_loss: 0.0612 - val_acc: 0.9510\n",
            "Epoch 9/100\n",
            "100/100 [==============================] - 21s 214ms/step - loss: 0.1488 - acc: 0.9450 - val_loss: 0.0188 - val_acc: 0.9500\n",
            "Epoch 10/100\n",
            "100/100 [==============================] - 21s 212ms/step - loss: 0.1493 - acc: 0.9365 - val_loss: 0.0782 - val_acc: 0.9510\n",
            "Epoch 11/100\n",
            "100/100 [==============================] - 21s 212ms/step - loss: 0.1445 - acc: 0.9425 - val_loss: 1.0276 - val_acc: 0.9510\n",
            "Epoch 12/100\n",
            "100/100 [==============================] - 21s 211ms/step - loss: 0.1183 - acc: 0.9560 - val_loss: 0.0752 - val_acc: 0.9530\n",
            "Epoch 13/100\n",
            "100/100 [==============================] - 21s 212ms/step - loss: 0.1323 - acc: 0.9510 - val_loss: 0.3330 - val_acc: 0.9520\n",
            "Epoch 14/100\n",
            "100/100 [==============================] - 21s 212ms/step - loss: 0.1154 - acc: 0.9595 - val_loss: 0.0895 - val_acc: 0.9510\n",
            "Epoch 15/100\n",
            "100/100 [==============================] - 21s 211ms/step - loss: 0.1263 - acc: 0.9465 - val_loss: 0.0133 - val_acc: 0.9620\n",
            "Epoch 16/100\n",
            "100/100 [==============================] - 21s 209ms/step - loss: 0.1013 - acc: 0.9600 - val_loss: 0.0065 - val_acc: 0.9610\n",
            "Epoch 17/100\n",
            "100/100 [==============================] - 21s 207ms/step - loss: 0.0880 - acc: 0.9680 - val_loss: 0.1807 - val_acc: 0.9600\n",
            "Epoch 18/100\n",
            "100/100 [==============================] - 21s 208ms/step - loss: 0.0939 - acc: 0.9600 - val_loss: 0.0542 - val_acc: 0.9620\n",
            "Epoch 19/100\n",
            "100/100 [==============================] - 22s 216ms/step - loss: 0.0907 - acc: 0.9660 - val_loss: 0.0117 - val_acc: 0.9680\n",
            "Epoch 20/100\n",
            "100/100 [==============================] - 21s 209ms/step - loss: 0.0986 - acc: 0.9600 - val_loss: 2.9085e-04 - val_acc: 0.9640\n",
            "Epoch 21/100\n",
            "100/100 [==============================] - 22s 220ms/step - loss: 0.0878 - acc: 0.9680 - val_loss: 0.1654 - val_acc: 0.9650\n",
            "Epoch 22/100\n",
            "100/100 [==============================] - 21s 215ms/step - loss: 0.1080 - acc: 0.9580 - val_loss: 0.1084 - val_acc: 0.9610\n",
            "Epoch 23/100\n",
            "100/100 [==============================] - 22s 215ms/step - loss: 0.0770 - acc: 0.9730 - val_loss: 0.1029 - val_acc: 0.9620\n",
            "Epoch 24/100\n",
            "100/100 [==============================] - 21s 214ms/step - loss: 0.0788 - acc: 0.9735 - val_loss: 0.2167 - val_acc: 0.9670\n",
            "Epoch 25/100\n",
            "100/100 [==============================] - 21s 214ms/step - loss: 0.0831 - acc: 0.9730 - val_loss: 0.0059 - val_acc: 0.9620\n",
            "Epoch 26/100\n",
            "100/100 [==============================] - 22s 217ms/step - loss: 0.0810 - acc: 0.9735 - val_loss: 0.2216 - val_acc: 0.9630\n",
            "Epoch 27/100\n",
            "100/100 [==============================] - 22s 216ms/step - loss: 0.0906 - acc: 0.9630 - val_loss: 0.0610 - val_acc: 0.9640\n",
            "Epoch 28/100\n",
            "100/100 [==============================] - 21s 215ms/step - loss: 0.0710 - acc: 0.9735 - val_loss: 0.0719 - val_acc: 0.9650\n",
            "Epoch 29/100\n",
            "100/100 [==============================] - 21s 214ms/step - loss: 0.0701 - acc: 0.9740 - val_loss: 0.0955 - val_acc: 0.9650\n",
            "Epoch 30/100\n",
            "100/100 [==============================] - 22s 217ms/step - loss: 0.0593 - acc: 0.9805 - val_loss: 0.0388 - val_acc: 0.9680\n",
            "Epoch 31/100\n",
            "100/100 [==============================] - 22s 216ms/step - loss: 0.0729 - acc: 0.9755 - val_loss: 0.2721 - val_acc: 0.9710\n",
            "Epoch 32/100\n",
            " 27/100 [=======>......................] - ETA: 11s - loss: 0.0519 - acc: 0.9870"
          ],
          "name": "stdout"
        }
      ]
    },
    {
      "cell_type": "markdown",
      "metadata": {
        "id": "eVBQgh5M-Rtz",
        "colab_type": "text"
      },
      "source": [
        "## Display learning curves during fine-tuning"
      ]
    },
    {
      "cell_type": "code",
      "metadata": {
        "id": "mbkIw7Ie-NP4",
        "colab_type": "code",
        "colab": {}
      },
      "source": [
        "%matplotlib inline\n",
        "\n",
        "import matplotlib.pyplot as plt\n",
        "\n",
        "acc = history.history['acc']\n",
        "val_acc = history.history['val_acc']\n",
        "\n",
        "loss = history.history['loss']\n",
        "val_loss = history.history['val_loss']\n",
        "\n",
        "epochs = range(1, len(acc) + 1)\n",
        "\n",
        "# training and validation accuracy\n",
        "\n",
        "plt.plot(epochs, acc, 'bo', label='training acc')\n",
        "plt.plot(epochs, val_acc, 'b', label='validation acc')\n",
        "plt.title('training and validation accuracy')\n",
        "plt.legend()\n",
        "\n",
        "plt.figure()\n",
        "\n",
        "# training and validation loss\n",
        "\n",
        "plt.plot(epochs, loss, 'bo', label='training loss')\n",
        "plt.plot(epochs, val_loss, 'b', label='validation loss')\n",
        "plt.title('training and validation loss')\n",
        "plt.legend()\n",
        "\n",
        "plt.show()"
      ],
      "execution_count": 0,
      "outputs": []
    },
    {
      "cell_type": "markdown",
      "metadata": {
        "id": "obQi6N4ZShdi",
        "colab_type": "text"
      },
      "source": [
        "This looks like overfitting. I should try  adding dropout for the densely connected layer."
      ]
    },
    {
      "cell_type": "markdown",
      "metadata": {
        "id": "he3Nw6TOJwjx",
        "colab_type": "text"
      },
      "source": [
        "## Print out validation loss and accuracy"
      ]
    },
    {
      "cell_type": "code",
      "metadata": {
        "id": "SVQtrk7uJdhl",
        "colab_type": "code",
        "colab": {}
      },
      "source": [
        "val_loss, val_acc = model.evaluate_generator(validation_generator, steps=50)"
      ],
      "execution_count": 0,
      "outputs": []
    },
    {
      "cell_type": "code",
      "metadata": {
        "id": "HpdddLi1SUMe",
        "colab_type": "code",
        "colab": {}
      },
      "source": [
        "print(\"Validation loss:\", val_loss)\n",
        "print(\"Validation accuracy:\", val_acc)"
      ],
      "execution_count": 0,
      "outputs": []
    },
    {
      "cell_type": "markdown",
      "metadata": {
        "id": "7Ww756WToby8",
        "colab_type": "text"
      },
      "source": [
        "## Save the model"
      ]
    },
    {
      "cell_type": "code",
      "metadata": {
        "id": "0lTUpUdwobKW",
        "colab_type": "code",
        "colab": {}
      },
      "source": [
        "model_fname = 'cats_and_dogs_small_4.h5' \n",
        "model.save(model_fname)"
      ],
      "execution_count": 0,
      "outputs": []
    },
    {
      "cell_type": "code",
      "metadata": {
        "id": "YhEoI8ZTok-X",
        "colab_type": "code",
        "colab": {}
      },
      "source": [
        "from google.colab import files\n",
        "\n",
        "with open(model_fname, 'r') as f:\n",
        "  files.download(model_fname)"
      ],
      "execution_count": 0,
      "outputs": []
    },
    {
      "cell_type": "code",
      "metadata": {
        "id": "VNEL4CCcS0Oj",
        "colab_type": "code",
        "colab": {}
      },
      "source": [
        ""
      ],
      "execution_count": 0,
      "outputs": []
    }
  ]
}