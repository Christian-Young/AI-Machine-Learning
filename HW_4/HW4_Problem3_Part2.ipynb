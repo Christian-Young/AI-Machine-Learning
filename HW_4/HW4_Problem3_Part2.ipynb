{
  "nbformat": 4,
  "nbformat_minor": 0,
  "metadata": {
    "colab": {
      "name": "HW4_Problem3_Part2.ipynb",
      "provenance": [],
      "collapsed_sections": [],
      "include_colab_link": true
    },
    "kernelspec": {
      "name": "python3",
      "display_name": "Python 3"
    },
    "accelerator": "GPU"
  },
  "cells": [
    {
      "cell_type": "markdown",
      "metadata": {
        "id": "view-in-github",
        "colab_type": "text"
      },
      "source": [
        "<a href=\"https://colab.research.google.com/github/Christian-Young/AI-Machine-Learning/blob/master/HW_4/HW4_Problem3_Part2.ipynb\" target=\"_parent\"><img src=\"https://colab.research.google.com/assets/colab-badge.svg\" alt=\"Open In Colab\"/></a>"
      ]
    },
    {
      "cell_type": "markdown",
      "metadata": {
        "id": "3hk3vxO1iySi",
        "colab_type": "text"
      },
      "source": [
        "##Problem 3 Part 2\n",
        "\n",
        "You will adapt the notebook [using VGG16 conv base for feature extraction, using data augmentation, not using dropout, fine-tuning](https://colab.research.google.com/drive/1F-RWvoxH8MmT7c1UmNy41iuOp-ejiLoF). You will have to replace the VGG16 conv base by new conv bases. You should not use VGG19.\n",
        "\n",
        "You should create two notebooks. Both should use the same conv base, unfreeze the same number of layers of the conv_base, but use different classifiers."
      ]
    },
    {
      "cell_type": "markdown",
      "metadata": {
        "id": "KSrgMJ5vKFzQ",
        "colab_type": "text"
      },
      "source": [
        "# Fine-tuning VGG16 "
      ]
    },
    {
      "cell_type": "markdown",
      "metadata": {
        "id": "TIW7bZaAK-Hf",
        "colab_type": "text"
      },
      "source": [
        "This is based on section 5.3 *Using a pretrained convnet* of the book *Deep learning with Python* by Francois Chollet. I have made several changes to the code. I use the data that is already provided by Google. I don't download the data from Kaggle as in the deep learning book."
      ]
    },
    {
      "cell_type": "markdown",
      "metadata": {
        "id": "nsBq__dVo2pj",
        "colab_type": "text"
      },
      "source": [
        "## Feature extraction"
      ]
    },
    {
      "cell_type": "markdown",
      "metadata": {
        "id": "0g6ETAM9o54M",
        "colab_type": "text"
      },
      "source": [
        "Feature extraction consists of using the representations learned by a previous network to extract interesting features from new samples. These features are then run through a new classifier, which is trained from scratch.\n",
        "\n",
        "We will use here the convolutional base of the VGG16 model to extract the features. We will feed these features to a densely connected classifier with dropout. We will fine-tune some layers."
      ]
    },
    {
      "cell_type": "markdown",
      "metadata": {
        "id": "BqIG8QHMLNOn",
        "colab_type": "text"
      },
      "source": [
        "## Download the data"
      ]
    },
    {
      "cell_type": "markdown",
      "metadata": {
        "id": "t3I1jd7cKV6_",
        "colab_type": "text"
      },
      "source": [
        "Download the example data, a zip. of 2,000 JPG pictures of cats and dogs and extract it locally in ```/tmp```.\n",
        "\n"
      ]
    },
    {
      "cell_type": "code",
      "metadata": {
        "id": "JWjprHEXJ5Qi",
        "colab_type": "code",
        "outputId": "ecda2aed-19e2-4dac-d4bf-555014a34d8a",
        "colab": {
          "base_uri": "https://localhost:8080/",
          "height": 204
        }
      },
      "source": [
        "!wget --no-check-certificate \\\n",
        "    https://storage.googleapis.com/mledu-datasets/cats_and_dogs_filtered.zip \\\n",
        "    -O /tmp/cats_and_dogs_filtered.zip"
      ],
      "execution_count": 0,
      "outputs": [
        {
          "output_type": "stream",
          "text": [
            "--2020-04-29 17:26:33--  https://storage.googleapis.com/mledu-datasets/cats_and_dogs_filtered.zip\n",
            "Resolving storage.googleapis.com (storage.googleapis.com)... 108.177.96.128, 2a00:1450:4013:c00::80\n",
            "Connecting to storage.googleapis.com (storage.googleapis.com)|108.177.96.128|:443... connected.\n",
            "HTTP request sent, awaiting response... 200 OK\n",
            "Length: 68606236 (65M) [application/zip]\n",
            "Saving to: ‘/tmp/cats_and_dogs_filtered.zip’\n",
            "\n",
            "/tmp/cats_and_dogs_ 100%[===================>]  65.43M  93.9MB/s    in 0.7s    \n",
            "\n",
            "2020-04-29 17:26:34 (93.9 MB/s) - ‘/tmp/cats_and_dogs_filtered.zip’ saved [68606236/68606236]\n",
            "\n"
          ],
          "name": "stdout"
        }
      ]
    },
    {
      "cell_type": "code",
      "metadata": {
        "id": "WvoHtdA-K6Rw",
        "colab_type": "code",
        "colab": {}
      },
      "source": [
        "import os\n",
        "import zipfile\n",
        "\n",
        "local_zip = '/tmp/cats_and_dogs_filtered.zip'\n",
        "zip_ref = zipfile.ZipFile(local_zip, 'r')\n",
        "zip_ref.extractall('/tmp')\n",
        "zip_ref.close()"
      ],
      "execution_count": 0,
      "outputs": []
    },
    {
      "cell_type": "markdown",
      "metadata": {
        "id": "shZiOBnJMyy_",
        "colab_type": "text"
      },
      "source": [
        "Note that the data provided by Google does not have a test set."
      ]
    },
    {
      "cell_type": "code",
      "metadata": {
        "id": "dL8ikM89LlsH",
        "colab_type": "code",
        "colab": {}
      },
      "source": [
        "base_dir = '/tmp/cats_and_dogs_filtered'\n",
        "train_dir = os.path.join(base_dir, 'train')\n",
        "validation_dir = os.path.join(base_dir, 'validation')\n",
        "\n",
        "# Directory with our training cat pictures\n",
        "train_cats_dir = os.path.join(train_dir, 'cats')\n",
        "\n",
        "# Directory with our training dog pictures\n",
        "train_dogs_dir = os.path.join(train_dir, 'dogs')\n",
        "\n",
        "# Directory with our validation cat pictures\n",
        "validation_cats_dir = os.path.join(validation_dir, 'cats')\n",
        "\n",
        "# Directory with our validation dog pictures\n",
        "validation_dogs_dir = os.path.join(validation_dir, 'dogs')"
      ],
      "execution_count": 0,
      "outputs": []
    },
    {
      "cell_type": "markdown",
      "metadata": {
        "id": "inyP8bcdXnn-",
        "colab_type": "text"
      },
      "source": [
        "## Build network with VGG16 convolution base and custom densely connected layers"
      ]
    },
    {
      "cell_type": "markdown",
      "metadata": {
        "id": "kQ48W5T9rHWu",
        "colab_type": "text"
      },
      "source": [
        "### Load the convolutional base"
      ]
    },
    {
      "cell_type": "code",
      "metadata": {
        "id": "Y0FgtANCXm_H",
        "colab_type": "code",
        "outputId": "98edaae9-2586-42df-c1f2-96b7ed4044c0",
        "colab": {
          "base_uri": "https://localhost:8080/",
          "height": 68
        }
      },
      "source": [
        "# For these notebooks I will use the Xception conv base.\n",
        "from keras.applications import Xception\n",
        "\n",
        "conv_base = Xception(\n",
        "    weights='imagenet', \n",
        "    include_top=False, \n",
        "    input_shape=(150, 150, 3))"
      ],
      "execution_count": 0,
      "outputs": [
        {
          "output_type": "stream",
          "text": [
            "Using TensorFlow backend.\n"
          ],
          "name": "stderr"
        },
        {
          "output_type": "stream",
          "text": [
            "Downloading data from https://github.com/fchollet/deep-learning-models/releases/download/v0.4/xception_weights_tf_dim_ordering_tf_kernels_notop.h5\n",
            "83689472/83683744 [==============================] - 3s 0us/step\n"
          ],
          "name": "stdout"
        }
      ]
    },
    {
      "cell_type": "markdown",
      "metadata": {
        "id": "D6OBHOO9q1ou",
        "colab_type": "text"
      },
      "source": [
        "### Freeze the convolutional base"
      ]
    },
    {
      "cell_type": "code",
      "metadata": {
        "id": "UleRo4Dpq6Ld",
        "colab_type": "code",
        "colab": {}
      },
      "source": [
        "conv_base.trainable = False"
      ],
      "execution_count": 0,
      "outputs": []
    },
    {
      "cell_type": "markdown",
      "metadata": {
        "id": "Qfx6PqhPrb7Q",
        "colab_type": "text"
      },
      "source": [
        "### Concatenate the convolutional base and densely connected layers"
      ]
    },
    {
      "cell_type": "code",
      "metadata": {
        "id": "qUpmocDAO3xm",
        "colab_type": "code",
        "colab": {}
      },
      "source": [
        "from keras import layers\n",
        "from keras import models\n",
        "from keras import optimizers\n",
        "\n",
        "# Updated classifiers.\n",
        "model = models.Sequential()\n",
        "model.add(conv_base)\n",
        "model.add(layers.Flatten())\n",
        "model.add(layers.Dense(128, activation='relu'))\n",
        "#model.add(layers.Dropout(0.1))\n",
        "model.add(layers.Dense(1, activation='sigmoid'))"
      ],
      "execution_count": 0,
      "outputs": []
    },
    {
      "cell_type": "code",
      "metadata": {
        "id": "Fh6gZSeAjF7c",
        "colab_type": "code",
        "outputId": "c5d460d1-8e36-4127-9f27-2f770493d6f5",
        "colab": {
          "base_uri": "https://localhost:8080/",
          "height": 289
        }
      },
      "source": [
        "model.summary()"
      ],
      "execution_count": 0,
      "outputs": [
        {
          "output_type": "stream",
          "text": [
            "Model: \"sequential_1\"\n",
            "_________________________________________________________________\n",
            "Layer (type)                 Output Shape              Param #   \n",
            "=================================================================\n",
            "xception (Model)             (None, 5, 5, 2048)        20861480  \n",
            "_________________________________________________________________\n",
            "flatten_1 (Flatten)          (None, 51200)             0         \n",
            "_________________________________________________________________\n",
            "dense_1 (Dense)              (None, 128)               6553728   \n",
            "_________________________________________________________________\n",
            "dense_2 (Dense)              (None, 1)                 129       \n",
            "=================================================================\n",
            "Total params: 27,415,337\n",
            "Trainable params: 6,553,857\n",
            "Non-trainable params: 20,861,480\n",
            "_________________________________________________________________\n"
          ],
          "name": "stdout"
        }
      ]
    },
    {
      "cell_type": "markdown",
      "metadata": {
        "id": "eZjBiddhi5Qj",
        "colab_type": "text"
      },
      "source": [
        "## Train the model end to end with frozen convolutional base"
      ]
    },
    {
      "cell_type": "code",
      "metadata": {
        "id": "tfAQlC2Oi41L",
        "colab_type": "code",
        "outputId": "287b5520-ff4b-4d25-fd75-1c583ed27f2f",
        "colab": {
          "base_uri": "https://localhost:8080/",
          "height": 1000
        }
      },
      "source": [
        "from keras.preprocessing.image import ImageDataGenerator\n",
        "from keras import optimizers\n",
        "\n",
        "# data augmentation\n",
        "\n",
        "train_datagen = ImageDataGenerator(\n",
        "    rescale=1./255, \n",
        "    rotation_range=40,\n",
        "    width_shift_range=0.2,\n",
        "    height_shift_range=0.2,\n",
        "    shear_range=0.2,\n",
        "    zoom_range=0.2,\n",
        "    horizontal_flip=True,\n",
        "    fill_mode='nearest'\n",
        ")\n",
        "\n",
        "train_generator = train_datagen.flow_from_directory(\n",
        "    train_dir,\n",
        "    target_size=(150, 150),\n",
        "    batch_size=20,\n",
        "    class_mode='binary')\n",
        "\n",
        "validation_datagen = ImageDataGenerator(rescale=1./255)\n",
        "\n",
        "validation_generator = validation_datagen.flow_from_directory(\n",
        "    validation_dir,\n",
        "    target_size=(150, 150),\n",
        "    batch_size=20,\n",
        "    class_mode='binary')\n",
        "\n",
        "# compile model\n",
        "\n",
        "model.compile(\n",
        "    loss='binary_crossentropy', \n",
        "    optimizer=optimizers.RMSprop(lr=2e-5), \n",
        "    metrics=['acc'])\n",
        "\n",
        "# train\n",
        "\n",
        "history = model.fit_generator(\n",
        "    train_generator,\n",
        "    steps_per_epoch=100,\n",
        "    epochs=30,\n",
        "    validation_data=validation_generator,\n",
        "    validation_steps=50\n",
        ")"
      ],
      "execution_count": 0,
      "outputs": [
        {
          "output_type": "stream",
          "text": [
            "Found 2000 images belonging to 2 classes.\n",
            "Found 1000 images belonging to 2 classes.\n",
            "Epoch 1/30\n",
            "100/100 [==============================] - 26s 260ms/step - loss: 0.4557 - acc: 0.7575 - val_loss: 0.1104 - val_acc: 0.9520\n",
            "Epoch 2/30\n",
            "100/100 [==============================] - 17s 173ms/step - loss: 0.3610 - acc: 0.8405 - val_loss: 0.1464 - val_acc: 0.9260\n",
            "Epoch 3/30\n",
            "100/100 [==============================] - 17s 173ms/step - loss: 0.3796 - acc: 0.8320 - val_loss: 0.0351 - val_acc: 0.9690\n",
            "Epoch 4/30\n",
            "100/100 [==============================] - 17s 172ms/step - loss: 0.3157 - acc: 0.8555 - val_loss: 0.0951 - val_acc: 0.9680\n",
            "Epoch 5/30\n",
            "100/100 [==============================] - 17s 171ms/step - loss: 0.3475 - acc: 0.8350 - val_loss: 0.5324 - val_acc: 0.9640\n",
            "Epoch 6/30\n",
            "100/100 [==============================] - 17s 170ms/step - loss: 0.3284 - acc: 0.8585 - val_loss: 0.0600 - val_acc: 0.9590\n",
            "Epoch 7/30\n",
            "100/100 [==============================] - 17s 171ms/step - loss: 0.3167 - acc: 0.8590 - val_loss: 0.2827 - val_acc: 0.9600\n",
            "Epoch 8/30\n",
            "100/100 [==============================] - 17s 170ms/step - loss: 0.3462 - acc: 0.8500 - val_loss: 0.0357 - val_acc: 0.9670\n",
            "Epoch 9/30\n",
            "100/100 [==============================] - 17s 168ms/step - loss: 0.2966 - acc: 0.8680 - val_loss: 0.3283 - val_acc: 0.9620\n",
            "Epoch 10/30\n",
            "100/100 [==============================] - 17s 171ms/step - loss: 0.3013 - acc: 0.8605 - val_loss: 0.0178 - val_acc: 0.9680\n",
            "Epoch 11/30\n",
            "100/100 [==============================] - 17s 168ms/step - loss: 0.3212 - acc: 0.8560 - val_loss: 0.0115 - val_acc: 0.9680\n",
            "Epoch 12/30\n",
            "100/100 [==============================] - 17s 167ms/step - loss: 0.3057 - acc: 0.8555 - val_loss: 0.7551 - val_acc: 0.9710\n",
            "Epoch 13/30\n",
            "100/100 [==============================] - 17s 168ms/step - loss: 0.2895 - acc: 0.8710 - val_loss: 0.3469 - val_acc: 0.9720\n",
            "Epoch 14/30\n",
            "100/100 [==============================] - 17s 168ms/step - loss: 0.3063 - acc: 0.8610 - val_loss: 0.2234 - val_acc: 0.9700\n",
            "Epoch 15/30\n",
            "100/100 [==============================] - 17s 168ms/step - loss: 0.3043 - acc: 0.8720 - val_loss: 3.2542e-05 - val_acc: 0.9690\n",
            "Epoch 16/30\n",
            "100/100 [==============================] - 17s 167ms/step - loss: 0.2858 - acc: 0.8720 - val_loss: 4.5669e-04 - val_acc: 0.9680\n",
            "Epoch 17/30\n",
            "100/100 [==============================] - 17s 166ms/step - loss: 0.3010 - acc: 0.8760 - val_loss: 0.2516 - val_acc: 0.9730\n",
            "Epoch 18/30\n",
            "100/100 [==============================] - 17s 167ms/step - loss: 0.2812 - acc: 0.8765 - val_loss: 0.1687 - val_acc: 0.9700\n",
            "Epoch 19/30\n",
            "100/100 [==============================] - 17s 168ms/step - loss: 0.2927 - acc: 0.8745 - val_loss: 1.1953e-04 - val_acc: 0.9620\n",
            "Epoch 20/30\n",
            "100/100 [==============================] - 17s 167ms/step - loss: 0.2640 - acc: 0.8835 - val_loss: 0.3773 - val_acc: 0.9730\n",
            "Epoch 21/30\n",
            "100/100 [==============================] - 17s 168ms/step - loss: 0.2859 - acc: 0.8830 - val_loss: 0.0105 - val_acc: 0.9670\n",
            "Epoch 22/30\n",
            "100/100 [==============================] - 17s 167ms/step - loss: 0.2780 - acc: 0.8750 - val_loss: 0.7084 - val_acc: 0.9710\n",
            "Epoch 23/30\n",
            "100/100 [==============================] - 17s 165ms/step - loss: 0.2666 - acc: 0.8775 - val_loss: 1.5811 - val_acc: 0.9710\n",
            "Epoch 24/30\n",
            "100/100 [==============================] - 17s 167ms/step - loss: 0.2693 - acc: 0.8825 - val_loss: 0.3294 - val_acc: 0.9690\n",
            "Epoch 25/30\n",
            "100/100 [==============================] - 17s 168ms/step - loss: 0.2588 - acc: 0.8860 - val_loss: 3.0578e-04 - val_acc: 0.9700\n",
            "Epoch 26/30\n",
            "100/100 [==============================] - 17s 166ms/step - loss: 0.2735 - acc: 0.8840 - val_loss: 0.1285 - val_acc: 0.9690\n",
            "Epoch 27/30\n",
            "100/100 [==============================] - 17s 165ms/step - loss: 0.2546 - acc: 0.8965 - val_loss: 4.9394e-06 - val_acc: 0.9710\n",
            "Epoch 28/30\n",
            "100/100 [==============================] - 17s 167ms/step - loss: 0.2571 - acc: 0.8865 - val_loss: 0.2040 - val_acc: 0.9690\n",
            "Epoch 29/30\n",
            "100/100 [==============================] - 17s 166ms/step - loss: 0.2761 - acc: 0.8815 - val_loss: 0.6244 - val_acc: 0.9680\n",
            "Epoch 30/30\n",
            "100/100 [==============================] - 17s 165ms/step - loss: 0.2719 - acc: 0.8870 - val_loss: 1.1050e-05 - val_acc: 0.9680\n"
          ],
          "name": "stdout"
        }
      ]
    },
    {
      "cell_type": "markdown",
      "metadata": {
        "id": "xqRc_vHKc92U",
        "colab_type": "text"
      },
      "source": [
        "## Display curves of loss and accuracy during training"
      ]
    },
    {
      "cell_type": "code",
      "metadata": {
        "id": "ybWwdzz9bwuQ",
        "colab_type": "code",
        "outputId": "f175dec3-0a43-4230-b4cf-64caa9fba432",
        "colab": {
          "base_uri": "https://localhost:8080/",
          "height": 545
        }
      },
      "source": [
        "%matplotlib inline\n",
        "\n",
        "import matplotlib.pyplot as plt\n",
        "\n",
        "acc = history.history['acc']\n",
        "val_acc = history.history['val_acc']\n",
        "\n",
        "loss = history.history['loss']\n",
        "val_loss = history.history['val_loss']\n",
        "\n",
        "epochs = range(1, len(acc) + 1)\n",
        "\n",
        "# training and validation accuracy\n",
        "\n",
        "plt.plot(epochs, acc, 'bo', label='training acc')\n",
        "plt.plot(epochs, val_acc, 'b', label='validation acc')\n",
        "plt.title('training and validation accuracy')\n",
        "plt.legend()\n",
        "\n",
        "plt.figure()\n",
        "\n",
        "# training and validation loss\n",
        "\n",
        "plt.plot(epochs, loss, 'bo', label='training loss')\n",
        "plt.plot(epochs, val_loss, 'b', label='validation loss')\n",
        "plt.title('training and validation loss')\n",
        "plt.legend()\n",
        "\n",
        "plt.show()"
      ],
      "execution_count": 0,
      "outputs": [
        {
          "output_type": "display_data",
          "data": {
            "image/png": "[encoded data removed]",
            "text/plain": [
              "<Figure size 432x288 with 1 Axes>"
            ]
          },
          "metadata": {
            "tags": [],
            "needs_background": "light"
          }
        },
        {
          "output_type": "display_data",
          "data": {
            "image/png": "[encoded data removed]",
            "text/plain": [
              "<Figure size 432x288 with 1 Axes>"
            ]
          },
          "metadata": {
            "tags": [],
            "needs_background": "light"
          }
        }
      ]
    },
    {
      "cell_type": "markdown",
      "metadata": {
        "id": "lOWsxpey8lN0",
        "colab_type": "text"
      },
      "source": [
        "## Fine-tuning"
      ]
    },
    {
      "cell_type": "code",
      "metadata": {
        "id": "PwkVMx8N8qMw",
        "colab_type": "code",
        "colab": {}
      },
      "source": [
        "conv_base.trainable = True\n",
        "\n",
        "set_trainable = False\n",
        "for layer in conv_base.layers:\n",
        "  if layer.name == 'conv2d_3':\n",
        "    set_trainable = True\n",
        "  if set_trainable:\n",
        "    layer.trainable = True\n",
        "  else:\n",
        "    layer.trainable = False"
      ],
      "execution_count": 0,
      "outputs": []
    },
    {
      "cell_type": "code",
      "metadata": {
        "id": "DyN-J7rs9cvo",
        "colab_type": "code",
        "outputId": "8ccae1ad-7866-4393-a87a-a1326b640465",
        "colab": {
          "base_uri": "https://localhost:8080/",
          "height": 1000
        }
      },
      "source": [
        "# compile model\n",
        "\n",
        "model.compile(\n",
        "    loss='binary_crossentropy',\n",
        "    #\n",
        "    # choose a smaller learning rate\n",
        "    #\n",
        "    optimizer=optimizers.RMSprop(lr=1e-5), \n",
        "    metrics=['acc'])\n",
        "\n",
        "# train\n",
        "\n",
        "history = model.fit_generator(\n",
        "    train_generator,\n",
        "    steps_per_epoch=100,\n",
        "    epochs=100,\n",
        "    validation_data=validation_generator,\n",
        "    validation_steps=50)"
      ],
      "execution_count": 0,
      "outputs": [
        {
          "output_type": "stream",
          "text": [
            "Epoch 1/100\n",
            "100/100 [==============================] - 26s 264ms/step - loss: 0.2453 - acc: 0.8975 - val_loss: 0.0021 - val_acc: 0.9630\n",
            "Epoch 2/100\n",
            "100/100 [==============================] - 19s 193ms/step - loss: 0.2385 - acc: 0.8940 - val_loss: 0.1529 - val_acc: 0.9360\n",
            "Epoch 3/100\n",
            "100/100 [==============================] - 19s 194ms/step - loss: 0.2049 - acc: 0.9200 - val_loss: 0.0355 - val_acc: 0.9400\n",
            "Epoch 4/100\n",
            "100/100 [==============================] - 19s 193ms/step - loss: 0.1877 - acc: 0.9240 - val_loss: 0.3978 - val_acc: 0.9490\n",
            "Epoch 5/100\n",
            "100/100 [==============================] - 19s 193ms/step - loss: 0.1960 - acc: 0.9175 - val_loss: 0.2534 - val_acc: 0.9320\n",
            "Epoch 6/100\n",
            "100/100 [==============================] - 19s 193ms/step - loss: 0.1754 - acc: 0.9270 - val_loss: 0.0817 - val_acc: 0.9380\n",
            "Epoch 7/100\n",
            "100/100 [==============================] - 19s 195ms/step - loss: 0.1733 - acc: 0.9325 - val_loss: 0.1308 - val_acc: 0.9460\n",
            "Epoch 8/100\n",
            "100/100 [==============================] - 19s 194ms/step - loss: 0.1386 - acc: 0.9445 - val_loss: 0.0799 - val_acc: 0.9490\n",
            "Epoch 9/100\n",
            "100/100 [==============================] - 19s 192ms/step - loss: 0.1448 - acc: 0.9470 - val_loss: 0.3031 - val_acc: 0.9410\n",
            "Epoch 10/100\n",
            "100/100 [==============================] - 19s 194ms/step - loss: 0.1368 - acc: 0.9415 - val_loss: 0.0744 - val_acc: 0.9390\n",
            "Epoch 11/100\n",
            "100/100 [==============================] - 19s 193ms/step - loss: 0.1343 - acc: 0.9460 - val_loss: 0.0832 - val_acc: 0.9460\n",
            "Epoch 12/100\n",
            "100/100 [==============================] - 19s 193ms/step - loss: 0.1146 - acc: 0.9545 - val_loss: 0.0339 - val_acc: 0.9500\n",
            "Epoch 13/100\n",
            "100/100 [==============================] - 19s 192ms/step - loss: 0.1135 - acc: 0.9575 - val_loss: 0.0089 - val_acc: 0.9590\n",
            "Epoch 14/100\n",
            "100/100 [==============================] - 19s 193ms/step - loss: 0.1314 - acc: 0.9520 - val_loss: 0.1288 - val_acc: 0.9510\n",
            "Epoch 15/100\n",
            "100/100 [==============================] - 19s 194ms/step - loss: 0.1024 - acc: 0.9570 - val_loss: 0.1227 - val_acc: 0.9600\n",
            "Epoch 16/100\n",
            "100/100 [==============================] - 19s 194ms/step - loss: 0.1130 - acc: 0.9600 - val_loss: 0.0012 - val_acc: 0.9610\n",
            "Epoch 17/100\n",
            "100/100 [==============================] - 19s 193ms/step - loss: 0.1058 - acc: 0.9630 - val_loss: 0.0282 - val_acc: 0.9530\n",
            "Epoch 18/100\n",
            "100/100 [==============================] - 19s 192ms/step - loss: 0.1035 - acc: 0.9620 - val_loss: 0.0593 - val_acc: 0.9520\n",
            "Epoch 19/100\n",
            "100/100 [==============================] - 19s 194ms/step - loss: 0.0987 - acc: 0.9580 - val_loss: 0.0584 - val_acc: 0.9600\n",
            "Epoch 20/100\n",
            "100/100 [==============================] - 19s 193ms/step - loss: 0.1005 - acc: 0.9650 - val_loss: 0.0118 - val_acc: 0.9600\n",
            "Epoch 21/100\n",
            "100/100 [==============================] - 19s 193ms/step - loss: 0.1079 - acc: 0.9585 - val_loss: 0.0437 - val_acc: 0.9610\n",
            "Epoch 22/100\n",
            "100/100 [==============================] - 19s 192ms/step - loss: 0.0883 - acc: 0.9645 - val_loss: 0.0061 - val_acc: 0.9670\n",
            "Epoch 23/100\n",
            "100/100 [==============================] - 20s 200ms/step - loss: 0.0930 - acc: 0.9675 - val_loss: 0.0230 - val_acc: 0.9650\n",
            "Epoch 24/100\n",
            "100/100 [==============================] - 20s 195ms/step - loss: 0.0835 - acc: 0.9660 - val_loss: 0.3655 - val_acc: 0.9670\n",
            "Epoch 25/100\n",
            "100/100 [==============================] - 19s 194ms/step - loss: 0.0722 - acc: 0.9745 - val_loss: 0.0672 - val_acc: 0.9640\n",
            "Epoch 26/100\n",
            "100/100 [==============================] - 19s 194ms/step - loss: 0.0894 - acc: 0.9675 - val_loss: 0.0111 - val_acc: 0.9700\n",
            "Epoch 27/100\n",
            "100/100 [==============================] - 19s 192ms/step - loss: 0.0690 - acc: 0.9725 - val_loss: 0.0334 - val_acc: 0.9700\n",
            "Epoch 28/100\n",
            "100/100 [==============================] - 19s 194ms/step - loss: 0.0713 - acc: 0.9725 - val_loss: 0.0041 - val_acc: 0.9640\n",
            "Epoch 29/100\n",
            "100/100 [==============================] - 19s 194ms/step - loss: 0.0633 - acc: 0.9770 - val_loss: 0.4754 - val_acc: 0.9720\n",
            "Epoch 30/100\n",
            "100/100 [==============================] - 19s 193ms/step - loss: 0.0738 - acc: 0.9720 - val_loss: 3.6732e-04 - val_acc: 0.9700\n",
            "Epoch 31/100\n",
            "100/100 [==============================] - 19s 194ms/step - loss: 0.0664 - acc: 0.9780 - val_loss: 0.0042 - val_acc: 0.9640\n",
            "Epoch 32/100\n",
            "100/100 [==============================] - 19s 195ms/step - loss: 0.0560 - acc: 0.9775 - val_loss: 0.0625 - val_acc: 0.9720\n",
            "Epoch 33/100\n",
            "100/100 [==============================] - 19s 193ms/step - loss: 0.0477 - acc: 0.9835 - val_loss: 0.0433 - val_acc: 0.9720\n",
            "Epoch 34/100\n",
            "100/100 [==============================] - 19s 194ms/step - loss: 0.0638 - acc: 0.9770 - val_loss: 0.0377 - val_acc: 0.9670\n",
            "Epoch 35/100\n",
            "100/100 [==============================] - 19s 194ms/step - loss: 0.0579 - acc: 0.9795 - val_loss: 0.0826 - val_acc: 0.9610\n",
            "Epoch 36/100\n",
            "100/100 [==============================] - 19s 194ms/step - loss: 0.0874 - acc: 0.9730 - val_loss: 9.2587e-04 - val_acc: 0.9650\n",
            "Epoch 37/100\n",
            "100/100 [==============================] - 19s 193ms/step - loss: 0.0506 - acc: 0.9770 - val_loss: 0.0378 - val_acc: 0.9700\n",
            "Epoch 38/100\n",
            " 26/100 [======>.......................] - ETA: 9s - loss: 0.0842 - acc: 0.9750"
          ],
          "name": "stdout"
        }
      ]
    },
    {
      "cell_type": "markdown",
      "metadata": {
        "id": "eVBQgh5M-Rtz",
        "colab_type": "text"
      },
      "source": [
        "## Display learning curves during fine-tuning"
      ]
    },
    {
      "cell_type": "code",
      "metadata": {
        "id": "mbkIw7Ie-NP4",
        "colab_type": "code",
        "colab": {}
      },
      "source": [
        "%matplotlib inline\n",
        "\n",
        "import matplotlib.pyplot as plt\n",
        "\n",
        "acc = history.history['acc']\n",
        "val_acc = history.history['val_acc']\n",
        "\n",
        "loss = history.history['loss']\n",
        "val_loss = history.history['val_loss']\n",
        "\n",
        "epochs = range(1, len(acc) + 1)\n",
        "\n",
        "# training and validation accuracy\n",
        "\n",
        "plt.plot(epochs, acc, 'bo', label='training acc')\n",
        "plt.plot(epochs, val_acc, 'b', label='validation acc')\n",
        "plt.title('training and validation accuracy')\n",
        "plt.legend()\n",
        "\n",
        "plt.figure()\n",
        "\n",
        "# training and validation loss\n",
        "\n",
        "plt.plot(epochs, loss, 'bo', label='training loss')\n",
        "plt.plot(epochs, val_loss, 'b', label='validation loss')\n",
        "plt.title('training and validation loss')\n",
        "plt.legend()\n",
        "\n",
        "plt.show()"
      ],
      "execution_count": 0,
      "outputs": []
    },
    {
      "cell_type": "markdown",
      "metadata": {
        "id": "obQi6N4ZShdi",
        "colab_type": "text"
      },
      "source": [
        "This looks like overfitting. I should try  adding dropout for the densely connected layer."
      ]
    },
    {
      "cell_type": "markdown",
      "metadata": {
        "id": "he3Nw6TOJwjx",
        "colab_type": "text"
      },
      "source": [
        "## Print out validation loss and accuracy"
      ]
    },
    {
      "cell_type": "code",
      "metadata": {
        "id": "SVQtrk7uJdhl",
        "colab_type": "code",
        "colab": {}
      },
      "source": [
        "val_loss, val_acc = model.evaluate_generator(validation_generator, steps=50)"
      ],
      "execution_count": 0,
      "outputs": []
    },
    {
      "cell_type": "code",
      "metadata": {
        "id": "HpdddLi1SUMe",
        "colab_type": "code",
        "colab": {}
      },
      "source": [
        "print(\"Validation loss:\", val_loss)\n",
        "print(\"Validation accuracy:\", val_acc)"
      ],
      "execution_count": 0,
      "outputs": []
    },
    {
      "cell_type": "markdown",
      "metadata": {
        "id": "7Ww756WToby8",
        "colab_type": "text"
      },
      "source": [
        "## Save the model"
      ]
    },
    {
      "cell_type": "code",
      "metadata": {
        "id": "0lTUpUdwobKW",
        "colab_type": "code",
        "colab": {}
      },
      "source": [
        "model_fname = 'cats_and_dogs_small_4.h5' \n",
        "model.save(model_fname)"
      ],
      "execution_count": 0,
      "outputs": []
    },
    {
      "cell_type": "code",
      "metadata": {
        "id": "YhEoI8ZTok-X",
        "colab_type": "code",
        "colab": {}
      },
      "source": [
        "from google.colab import files\n",
        "\n",
        "with open(model_fname, 'r') as f:\n",
        "  files.download(model_fname)"
      ],
      "execution_count": 0,
      "outputs": []
    },
    {
      "cell_type": "code",
      "metadata": {
        "id": "VNEL4CCcS0Oj",
        "colab_type": "code",
        "colab": {}
      },
      "source": [
        ""
      ],
      "execution_count": 0,
      "outputs": []
    }
  ]
}